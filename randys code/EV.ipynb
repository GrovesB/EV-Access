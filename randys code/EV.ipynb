{
 "cells": [
  {
   "cell_type": "code",
   "execution_count": 29,
   "id": "66ebb45a",
   "metadata": {},
   "outputs": [],
   "source": [
    "import pandas as pd\n",
    "import csv"
   ]
  },
  {
   "cell_type": "code",
   "execution_count": 37,
   "id": "709a8888",
   "metadata": {},
   "outputs": [],
   "source": [
    "ev = pd.read_csv('EV Charge.csv')\n",
    "ev = ev.dropna()"
   ]
  },
  {
   "cell_type": "code",
   "execution_count": 38,
   "id": "d7f399bb",
   "metadata": {},
   "outputs": [
    {
     "data": {
      "text/html": [
       "<div>\n",
       "<style scoped>\n",
       "    .dataframe tbody tr th:only-of-type {\n",
       "        vertical-align: middle;\n",
       "    }\n",
       "\n",
       "    .dataframe tbody tr th {\n",
       "        vertical-align: top;\n",
       "    }\n",
       "\n",
       "    .dataframe thead th {\n",
       "        text-align: right;\n",
       "    }\n",
       "</style>\n",
       "<table border=\"1\" class=\"dataframe\">\n",
       "  <thead>\n",
       "    <tr style=\"text-align: right;\">\n",
       "      <th></th>\n",
       "      <th>Fuel Type Code</th>\n",
       "      <th>Station Name</th>\n",
       "      <th>EV Level1 EVSE Num</th>\n",
       "      <th>EV Level2 EVSE Num</th>\n",
       "      <th>EV DC Fast Count</th>\n",
       "      <th>Latitude</th>\n",
       "      <th>Longitude</th>\n",
       "    </tr>\n",
       "  </thead>\n",
       "  <tbody>\n",
       "    <tr>\n",
       "      <th>190</th>\n",
       "      <td>ELEC</td>\n",
       "      <td>Denver International Airport - Canopy Airport ...</td>\n",
       "      <td>18.0</td>\n",
       "      <td>9.0</td>\n",
       "      <td>1.0</td>\n",
       "      <td>39.843886</td>\n",
       "      <td>-104.771138</td>\n",
       "    </tr>\n",
       "    <tr>\n",
       "      <th>2101</th>\n",
       "      <td>ELEC</td>\n",
       "      <td>Bella Vista Road Park &amp; Ride Lot</td>\n",
       "      <td>3.0</td>\n",
       "      <td>4.0</td>\n",
       "      <td>1.0</td>\n",
       "      <td>38.349620</td>\n",
       "      <td>-121.987000</td>\n",
       "    </tr>\n",
       "    <tr>\n",
       "      <th>6474</th>\n",
       "      <td>ELEC</td>\n",
       "      <td>British Columbia Institute of Technology - Par...</td>\n",
       "      <td>2.0</td>\n",
       "      <td>6.0</td>\n",
       "      <td>2.0</td>\n",
       "      <td>49.249413</td>\n",
       "      <td>-122.999107</td>\n",
       "    </tr>\n",
       "    <tr>\n",
       "      <th>19828</th>\n",
       "      <td>ELEC</td>\n",
       "      <td>Gathering Place</td>\n",
       "      <td>1.0</td>\n",
       "      <td>1.0</td>\n",
       "      <td>2.0</td>\n",
       "      <td>36.122388</td>\n",
       "      <td>-95.984609</td>\n",
       "    </tr>\n",
       "    <tr>\n",
       "      <th>54302</th>\n",
       "      <td>ELEC</td>\n",
       "      <td>Steamboat Landing Gas Station</td>\n",
       "      <td>1.0</td>\n",
       "      <td>1.0</td>\n",
       "      <td>1.0</td>\n",
       "      <td>44.418696</td>\n",
       "      <td>-68.358901</td>\n",
       "    </tr>\n",
       "  </tbody>\n",
       "</table>\n",
       "</div>"
      ],
      "text/plain": [
       "      Fuel Type Code                                       Station Name  \\\n",
       "190             ELEC  Denver International Airport - Canopy Airport ...   \n",
       "2101            ELEC                   Bella Vista Road Park & Ride Lot   \n",
       "6474            ELEC  British Columbia Institute of Technology - Par...   \n",
       "19828           ELEC                                    Gathering Place   \n",
       "54302           ELEC                      Steamboat Landing Gas Station   \n",
       "\n",
       "       EV Level1 EVSE Num  EV Level2 EVSE Num  EV DC Fast Count   Latitude  \\\n",
       "190                  18.0                 9.0               1.0  39.843886   \n",
       "2101                  3.0                 4.0               1.0  38.349620   \n",
       "6474                  2.0                 6.0               2.0  49.249413   \n",
       "19828                 1.0                 1.0               2.0  36.122388   \n",
       "54302                 1.0                 1.0               1.0  44.418696   \n",
       "\n",
       "        Longitude  \n",
       "190   -104.771138  \n",
       "2101  -121.987000  \n",
       "6474  -122.999107  \n",
       "19828  -95.984609  \n",
       "54302  -68.358901  "
      ]
     },
     "execution_count": 38,
     "metadata": {},
     "output_type": "execute_result"
    }
   ],
   "source": [
    "ev.head()"
   ]
  },
  {
   "cell_type": "code",
   "execution_count": null,
   "id": "13e12fd9",
   "metadata": {},
   "outputs": [],
   "source": []
  }
 ],
 "metadata": {
  "kernelspec": {
   "display_name": "Python 3.10.4 64-bit",
   "language": "python",
   "name": "python3"
  },
  "language_info": {
   "codemirror_mode": {
    "name": "ipython",
    "version": 3
   },
   "file_extension": ".py",
   "mimetype": "text/x-python",
   "name": "python",
   "nbconvert_exporter": "python",
   "pygments_lexer": "ipython3",
   "version": "3.10.4"
  },
  "vscode": {
   "interpreter": {
    "hash": "490f1c68ed42f2c5a574e22fb9e03ff49b98516de8582ff1c5d4fb43fb70f61b"
   }
  }
 },
 "nbformat": 4,
 "nbformat_minor": 5
}
