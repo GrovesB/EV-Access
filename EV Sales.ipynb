{
 "cells": [
  {
   "cell_type": "markdown",
   "id": "8a846f57",
   "metadata": {},
   "source": [
    "# Sales Data"
   ]
  },
  {
   "cell_type": "code",
   "execution_count": null,
   "id": "d5259550",
   "metadata": {},
   "outputs": [],
   "source": [
    "# Importing the required modules\n",
    "from flask import Flask, render_template, jsonify\n",
    "from flask_pymongo import PyMongo\n",
    "import pandas as pd\n",
    "import json\n",
    "import ev_sales\n",
    "\n",
    "\n",
    "def sales():\n",
    "    \n",
    "    # Extracting Sales csv file into dataframe\n",
    "    sales_file = \"Data/IEA-EV-dataEV salesCarsHistorical.csv\"\n",
    "    sales_df = pd.read_csv(sales_file)\n",
    "    sales_df.head()\n",
    "    \n",
    "    # Clean Sales dataset by dropping PHEV Powertrain\n",
    "    sales_df=sales_df.loc[(sales_df['powertrain'] == 'BEV')].reset_index()\n",
    "    sales_df.head()\n",
    "    \n",
    "    return sales_df.to_dict('split')"
   ]
  },
  {
   "cell_type": "code",
   "execution_count": null,
   "id": "7bc2dbee",
   "metadata": {},
   "outputs": [],
   "source": [
    "# Create an instance of Flask\n",
    "app = Flask(__name__)"
   ]
  },
  {
   "cell_type": "code",
   "execution_count": null,
   "id": "f6eacb4a",
   "metadata": {},
   "outputs": [],
   "source": [
    "# Setup connection to mongodb\n",
    "conn = \"mongodb://localhost:27017/ev_data\"\n",
    "mongo = PyMongo(app, uri = conn)"
   ]
  },
  {
   "cell_type": "code",
   "execution_count": null,
   "id": "885d828e",
   "metadata": {},
   "outputs": [],
   "source": [
    "ev_sale = sales()"
   ]
  },
  {
   "cell_type": "code",
   "execution_count": null,
   "id": "89dc4532",
   "metadata": {},
   "outputs": [],
   "source": [
    "ev_sale"
   ]
  },
  {
   "cell_type": "code",
   "execution_count": null,
   "id": "05e432e9",
   "metadata": {
    "scrolled": true
   },
   "outputs": [],
   "source": [
    "type(ev_sale)"
   ]
  },
  {
   "cell_type": "code",
   "execution_count": null,
   "id": "366f0e38",
   "metadata": {},
   "outputs": [],
   "source": [
    "mongo.db.sales.update_one({}, {\"$set\": ev_sale}, upsert=True)"
   ]
  },
  {
   "cell_type": "code",
   "execution_count": null,
   "id": "aca1f42e",
   "metadata": {},
   "outputs": [],
   "source": [
    "result = mongo.db.sales.find()"
   ]
  },
  {
   "cell_type": "code",
   "execution_count": null,
   "id": "dca10f8b",
   "metadata": {},
   "outputs": [],
   "source": [
    "result_list = list(result)"
   ]
  },
  {
   "cell_type": "code",
   "execution_count": null,
   "id": "87d47c55",
   "metadata": {},
   "outputs": [],
   "source": [
    "result"
   ]
  },
  {
   "cell_type": "code",
   "execution_count": null,
   "id": "62a5ec13",
   "metadata": {},
   "outputs": [],
   "source": [
    "if len(result_list) > 0:\n",
    "        # Return the first result only and strip off the '_id'\n",
    "        data = result_list[0] \n",
    "        id_to_discard = data.pop('_id', None)\n",
    "else:\n",
    "        # Construct an error message\n",
    "        data = {'Error': 'No data found'} "
   ]
  },
  {
   "cell_type": "code",
   "execution_count": null,
   "id": "8102425d",
   "metadata": {},
   "outputs": [],
   "source": [
    "\n",
    "data"
   ]
  }
 ],
 "metadata": {
  "kernelspec": {
   "display_name": "Python 3 (ipykernel)",
   "language": "python",
   "name": "python3"
  },
  "language_info": {
   "codemirror_mode": {
    "name": "ipython",
    "version": 3
   },
   "file_extension": ".py",
   "mimetype": "text/x-python",
   "name": "python",
   "nbconvert_exporter": "python",
   "pygments_lexer": "ipython3",
   "version": "3.8.13"
  }
 },
 "nbformat": 4,
 "nbformat_minor": 5
}
