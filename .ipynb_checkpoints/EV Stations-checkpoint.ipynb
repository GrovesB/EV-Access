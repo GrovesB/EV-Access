{
 "cells": [
  {
   "cell_type": "markdown",
   "id": "4ec519e5",
   "metadata": {},
   "source": [
    "# EV Stations"
   ]
  },
  {
   "cell_type": "code",
   "execution_count": null,
   "id": "40ab9036",
   "metadata": {},
   "outputs": [],
   "source": [
    "# Importing the required modules\n",
    "from flask import Flask, render_template, jsonify\n",
    "from flask_pymongo import PyMongo\n",
    "import pandas as pd\n",
    "import json"
   ]
  },
  {
   "cell_type": "code",
   "execution_count": null,
   "id": "c70d11d8",
   "metadata": {},
   "outputs": [],
   "source": [
    "def stationCounts():\n",
    "    # Extracting charging stations csv file into dataframe\n",
    "    charging_stations = \"Data/Electric and Alternative Fuel Charging Stations.csv\"\n",
    "    scount_df = pd.read_csv(charging_stations, low_memory=False)\n",
    "\n",
    "    # Clean Sales dataset by replacing NaNs with 0\n",
    "    scount_df = scount_df.fillna(0)\n",
    "    \n",
    "    # Select only electric chargers in the US\n",
    "    scount_df = scount_df.loc[(scount_df['Fuel Type Code'] == 'ELEC') & (scount_df['Country'] == 'US')].reset_index(drop=True)\n",
    "\n",
    "    # Get only public charging stations\n",
    "    scount_df = scount_df.loc[scount_df['Access Code'] == 'public'].reset_index(drop=True)\n",
    "\n",
    "    # delete unused columns\n",
    "    scount_df = scount_df.drop(columns=['Fuel Type Code','Groups With Access Code','EV Other Info','EV Network Web','Geocode Status','Date Last Confirmed','Facility Type','Status Code','Expected Date','Access Days Time','Updated At','Country','Access Code','EV Pricing','EV On-Site Renewable Source','Restricted Access','Intersection Directions','Plus4','Station Phone','Cards Accepted','BD Blends','NG Fill Type Code','NG PSI','ID','Owner Type Code','Federal Agency ID','Federal Agency Name','Hydrogen Status Link','NG Vehicle Class','LPG Primary','E85 Blender Pump','Intersection Directions (French)','Access Days Time (French)','BD Blends (French)','Groups With Access Code (French)','Hydrogen Is Retail','Access Detail Code','Federal Agency Code','CNG Dispenser Num','CNG On-Site Renewable Source','CNG Total Compression Capacity','CNG Storage Capacity','LNG On-Site Renewable Source','E85 Other Ethanol Blends','EV Pricing (French)','LPG Nozzle Types','Hydrogen Pressures','Hydrogen Standards','CNG Fill Type Code','CNG PSI','CNG Vehicle Class','LNG Vehicle Class'])\n",
    "\n",
    "    # change the date to only the year\n",
    "    scount_df['Year Opened'] = pd.DatetimeIndex(scount_df['Open Date']).year\n",
    "\n",
    "    # remove the old date\n",
    "    scount_df.drop(columns=['Open Date'], inplace=True)\n",
    "\n",
    "    scount_df.drop(scount_df.columns[[0,1,2,3,4,5,6,7,8,9,10,11]], axis=1, inplace=True)\n",
    "\n",
    "    year_count = scount_df.groupby('Year Opened').value_counts().reset_index()\n",
    "\n",
    "    year_count.rename(columns={0 : 'Stations Added'}, inplace=True)\n",
    "\n",
    "    year_count['Total Stations'] = year_count['Stations Added'].cumsum()\n",
    "    \n",
    "    return year_count.to_dict('split')\n",
    "    \n",
    "    "
   ]
  },
  {
   "cell_type": "code",
   "execution_count": null,
   "id": "c8283d17",
   "metadata": {},
   "outputs": [],
   "source": [
    "def stations():\n",
    "    # Extracting charging stations csv file into dataframe\n",
    "    charging_stations = \"Data/Electric and Alternative Fuel Charging Stations.csv\"\n",
    "    stations_df = pd.read_csv(charging_stations, low_memory=False)\n",
    "\n",
    "    # Clean Sales dataset by replacing NaNs with 0\n",
    "    stations_df = stations_df.fillna(0)\n",
    "    \n",
    "    # Select only electric chargers in the US\n",
    "    stations_df = stations_df.loc[(stations_df['Fuel Type Code'] == 'ELEC') & (stations_df['Country'] == 'US')].reset_index(drop=True)\n",
    "\n",
    "    # Get only public charging stations\n",
    "    stations_df = stations_df.loc[stations_df['Access Code'] == 'public'].reset_index(drop=True)\n",
    "\n",
    "    # delete unused columns\n",
    "    stations_df = stations_df.drop(columns=['Fuel Type Code','Groups With Access Code','EV Other Info','EV Network Web','Geocode Status','Date Last Confirmed','Facility Type','Status Code','Expected Date','Access Days Time','Updated At','Country','Access Code','EV Pricing','EV On-Site Renewable Source','Restricted Access','Intersection Directions','Plus4','Station Phone','Cards Accepted','BD Blends','NG Fill Type Code','NG PSI','ID','Owner Type Code','Federal Agency ID','Federal Agency Name','Hydrogen Status Link','NG Vehicle Class','LPG Primary','E85 Blender Pump','Intersection Directions (French)','Access Days Time (French)','BD Blends (French)','Groups With Access Code (French)','Hydrogen Is Retail','Access Detail Code','Federal Agency Code','CNG Dispenser Num','CNG On-Site Renewable Source','CNG Total Compression Capacity','CNG Storage Capacity','LNG On-Site Renewable Source','E85 Other Ethanol Blends','EV Pricing (French)','LPG Nozzle Types','Hydrogen Pressures','Hydrogen Standards','CNG Fill Type Code','CNG PSI','CNG Vehicle Class','LNG Vehicle Class'])\n",
    "\n",
    "    # change the date to only the year\n",
    "    stations_df['Year Opened'] = pd.DatetimeIndex(stations_df['Open Date']).year\n",
    "\n",
    "    # remove the old date\n",
    "    stations_df.drop(columns=['Open Date'], inplace=True)\n",
    "    \n",
    "    return stations_df.to_dict('split')"
   ]
  },
  {
   "cell_type": "code",
   "execution_count": null,
   "id": "d4b7c07d",
   "metadata": {},
   "outputs": [],
   "source": [
    "# Create an instance of Flask\n",
    "app = Flask(__name__)"
   ]
  },
  {
   "cell_type": "code",
   "execution_count": null,
   "id": "adc4a35e",
   "metadata": {},
   "outputs": [],
   "source": [
    "# Setup connection to mongodb\n",
    "conn = \"mongodb://localhost:27017/ev_data\"\n",
    "mongo = PyMongo(app, uri = conn)"
   ]
  },
  {
   "cell_type": "code",
   "execution_count": null,
   "id": "818ec921",
   "metadata": {},
   "outputs": [],
   "source": [
    "charging_station = stations()"
   ]
  },
  {
   "cell_type": "code",
   "execution_count": null,
   "id": "d0be6af2",
   "metadata": {},
   "outputs": [],
   "source": [
    "station_count = stationCounts()"
   ]
  },
  {
   "cell_type": "code",
   "execution_count": null,
   "id": "daceead7",
   "metadata": {},
   "outputs": [],
   "source": [
    "years = []"
   ]
  },
  {
   "cell_type": "code",
   "execution_count": null,
   "id": "b95f132d",
   "metadata": {},
   "outputs": [],
   "source": [
    "stations = charging_station['data']"
   ]
  },
  {
   "cell_type": "code",
   "execution_count": null,
   "id": "57069192",
   "metadata": {},
   "outputs": [],
   "source": [
    "for station in stations:\n",
    "    years.append(station[12])"
   ]
  },
  {
   "cell_type": "code",
   "execution_count": null,
   "id": "2b925a8f",
   "metadata": {},
   "outputs": [],
   "source": [
    "mongo.db.stations.update_one({}, {\"$set\": charging_station}, upsert=True)"
   ]
  },
  {
   "cell_type": "code",
   "execution_count": null,
   "id": "f52ad8f8",
   "metadata": {},
   "outputs": [],
   "source": [
    "result = mongo.db.stations.find()"
   ]
  },
  {
   "cell_type": "code",
   "execution_count": null,
   "id": "28a82b97",
   "metadata": {},
   "outputs": [],
   "source": [
    "result_list = list(result)"
   ]
  },
  {
   "cell_type": "code",
   "execution_count": null,
   "id": "79697730",
   "metadata": {},
   "outputs": [],
   "source": [
    "result"
   ]
  },
  {
   "cell_type": "code",
   "execution_count": null,
   "id": "e0f2e0d7",
   "metadata": {},
   "outputs": [],
   "source": [
    "if len(result_list) > 0:\n",
    "        # Return the first result only and strip off the '_id'\n",
    "        data = result_list[0] \n",
    "        id_to_discard = data.pop('_id', None)\n",
    "else:\n",
    "        # Construct an error message\n",
    "        data = {'Error': 'No data found'} "
   ]
  },
  {
   "cell_type": "code",
   "execution_count": null,
   "id": "164e8d96",
   "metadata": {},
   "outputs": [],
   "source": [
    "data['data']"
   ]
  },
  {
   "cell_type": "code",
   "execution_count": null,
   "id": "0ca9339c",
   "metadata": {},
   "outputs": [],
   "source": []
  }
 ],
 "metadata": {
  "kernelspec": {
   "display_name": "Python 3 (ipykernel)",
   "language": "python",
   "name": "python3"
  },
  "language_info": {
   "codemirror_mode": {
    "name": "ipython",
    "version": 3
   },
   "file_extension": ".py",
   "mimetype": "text/x-python",
   "name": "python",
   "nbconvert_exporter": "python",
   "pygments_lexer": "ipython3",
   "version": "3.8.13"
  }
 },
 "nbformat": 4,
 "nbformat_minor": 5
}
