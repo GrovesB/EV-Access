{
 "cells": [
  {
   "cell_type": "markdown",
   "id": "4ec519e5",
   "metadata": {},
   "source": [
    "# EV Stations"
   ]
  },
  {
   "cell_type": "code",
   "execution_count": null,
   "id": "93d1364e",
   "metadata": {
    "scrolled": true
   },
   "outputs": [],
   "source": [
    "# Importing the required modules\n",
    "from flask import Flask, render_template, jsonify\n",
    "from flask_pymongo import PyMongo\n",
    "import pandas as pd\n",
    "import json\n",
    "import ev_stations\n",
    "\n",
    "\n",
    "def stations():\n",
    "    \n",
    "    # Extracting charging stations csv file into dataframe\n",
    "    charging_stations = \"Data/Electric and Alternative Fuel Charging Stations.csv\"\n",
    "    Charging_stations_df = pd.read_csv(charging_stations, low_memory=False)\n",
    "    Charging_stations_df.head()\n",
    "    \n",
    "    # Clean Sales dataset by dropping PHEV Powertrain\n",
    "    Cleaned_Charging_stations_df=Cleaned_Charging_stations_df= Charging_stations_df = Charging_stations_df.fillna(0)\n",
    "    \n",
    "    Cleaned_Charging_stations_df=Cleaned_Charging_stations_df.drop(columns=['Intersection Directions','Plus4','Station Phone','Status Code','Expected Date','Access Days Time','Cards Accepted','BD Blends','NG Fill Type Code','NG PSI','EV Level1 EVSE Num','EV Level2 EVSE Num','EV DC Fast Count','EV Other Info','EV Network','EV Network Web','ID','Owner Type Code','Federal Agency ID','Federal Agency Name','Hydrogen Status Link','NG Vehicle Class','LPG Primary','E85 Blender Pump','EV Connector Types','Intersection Directions (French)','Access Days Time (French)','BD Blends (French)','Groups With Access Code (French)','Hydrogen Is Retail','Access Detail Code','Federal Agency Code','CNG Dispenser Num','CNG On-Site Renewable Source','CNG Total Compression Capacity','CNG Storage Capacity','LNG On-Site Renewable Source','E85 Other Ethanol Blends','EV Pricing (French)','LPG Nozzle Types','Hydrogen Pressures','Hydrogen Standards','CNG Fill Type Code','CNG PSI','CNG Vehicle Class','LNG Vehicle Class'])\n",
    "\n",
    "    Cleaned_Charging_stations_df=Cleaned_Charging_stations_df.loc[(Cleaned_Charging_stations_df['Fuel Type Code'] == 'ELEC') & (Cleaned_Charging_stations_df['Country'] == 'US')].reset_index()\n",
    "    Cleaned_Charging_stations_df.head()\n",
    "    \n",
    "    return Cleaned_Charging_stations_df.to_dict('records')"
   ]
  },
  {
   "cell_type": "code",
   "execution_count": null,
   "id": "d4b7c07d",
   "metadata": {},
   "outputs": [],
   "source": [
    "# Create an instance of Flask\n",
    "app = Flask(__name__)"
   ]
  },
  {
   "cell_type": "code",
   "execution_count": null,
   "id": "adc4a35e",
   "metadata": {},
   "outputs": [],
   "source": [
    "# Setup connection to mongodb\n",
    "conn = \"mongodb://localhost:27017/ev_data\"\n",
    "mongo = PyMongo(app, uri = conn)"
   ]
  },
  {
   "cell_type": "code",
   "execution_count": null,
   "id": "818ec921",
   "metadata": {},
   "outputs": [],
   "source": [
    "charging_station = stations()"
   ]
  },
  {
   "cell_type": "code",
   "execution_count": null,
   "id": "a4663d4e",
   "metadata": {},
   "outputs": [],
   "source": [
    "charging_station"
   ]
  },
  {
   "cell_type": "code",
   "execution_count": null,
   "id": "454e4b51",
   "metadata": {},
   "outputs": [],
   "source": [
    "type(charging_station)"
   ]
  },
  {
   "cell_type": "code",
   "execution_count": null,
   "id": "2b925a8f",
   "metadata": {},
   "outputs": [],
   "source": [
    "mongo.db.stations.insert_many(charging_station)"
   ]
  },
  {
   "cell_type": "code",
   "execution_count": null,
   "id": "f52ad8f8",
   "metadata": {},
   "outputs": [],
   "source": [
    "result = mongo.db.stations.find()"
   ]
  },
  {
   "cell_type": "code",
   "execution_count": null,
   "id": "28a82b97",
   "metadata": {},
   "outputs": [],
   "source": [
    "result_list = list(result)"
   ]
  },
  {
   "cell_type": "code",
   "execution_count": null,
   "id": "79697730",
   "metadata": {},
   "outputs": [],
   "source": [
    "result"
   ]
  },
  {
   "cell_type": "code",
   "execution_count": null,
   "id": "e0f2e0d7",
   "metadata": {},
   "outputs": [],
   "source": [
    "if len(result_list) > 0:\n",
    "        # Return the first result only and strip off the '_id'\n",
    "        data = result_list[0] \n",
    "        id_to_discard = data.pop('_id', None)\n",
    "else:\n",
    "        # Construct an error message\n",
    "        data = {'Error': 'No data found'} "
   ]
  },
  {
   "cell_type": "code",
   "execution_count": null,
   "id": "164e8d96",
   "metadata": {},
   "outputs": [],
   "source": [
    "data"
   ]
  },
  {
   "cell_type": "code",
   "execution_count": null,
   "id": "0ca9339c",
   "metadata": {},
   "outputs": [],
   "source": []
  }
 ],
 "metadata": {
  "kernelspec": {
   "display_name": "PythonData38",
   "language": "python",
   "name": "pythondata38"
  },
  "language_info": {
   "codemirror_mode": {
    "name": "ipython",
    "version": 3
   },
   "file_extension": ".py",
   "mimetype": "text/x-python",
   "name": "python",
   "nbconvert_exporter": "python",
   "pygments_lexer": "ipython3",
   "version": "3.9.12"
  }
 },
 "nbformat": 4,
 "nbformat_minor": 5
}
