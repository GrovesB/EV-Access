{
 "cells": [
  {
   "cell_type": "code",
   "execution_count": null,
   "id": "0c1771f8",
   "metadata": {},
   "outputs": [],
   "source": [
    "import pymongo\n"
   ]
  },
  {
   "cell_type": "code",
   "execution_count": null,
   "id": "2b4d917d",
   "metadata": {},
   "outputs": [],
   "source": [
    "conn = 'mongodb://localhost:27017'\n",
    "client = pymongo.MongoClient(conn)\n",
    "\n",
    "db = client.sales_db"
   ]
  },
  {
   "cell_type": "code",
   "execution_count": null,
   "id": "f4d9e782",
   "metadata": {
    "scrolled": true
   },
   "outputs": [],
   "source": [
    "sales = db.Sales.find({ 'region': 'USA' })\n",
    "\n",
    "for _id in sales:\n",
    "    print(_id)"
   ]
  },
  {
   "cell_type": "code",
   "execution_count": null,
   "id": "5f7f4ccc",
   "metadata": {},
   "outputs": [],
   "source": [
    "db = client.EV_Stations"
   ]
  },
  {
   "cell_type": "code",
   "execution_count": null,
   "id": "d1f923c4",
   "metadata": {},
   "outputs": [],
   "source": [
    "us_stations = db.EV_Stations.find({ 'Fuel Type Code': 'ELEC' },{ 'Country': 'US' })\n",
    "\n",
    "for _id in us_stations:\n",
    "    print(_id)"
   ]
  },
  {
   "cell_type": "code",
   "execution_count": null,
   "id": "ebcde13e",
   "metadata": {},
   "outputs": [],
   "source": []
  }
 ],
 "metadata": {
  "kernelspec": {
   "display_name": "PythonData38",
   "language": "python",
   "name": "pythondata38"
  },
  "language_info": {
   "codemirror_mode": {
    "name": "ipython",
    "version": 3
   },
   "file_extension": ".py",
   "mimetype": "text/x-python",
   "name": "python",
   "nbconvert_exporter": "python",
   "pygments_lexer": "ipython3",
   "version": "3.9.12"
  }
 },
 "nbformat": 4,
 "nbformat_minor": 5
}
