{
 "cells": [
  {
   "cell_type": "code",
   "execution_count": 24,
   "id": "0c1771f8",
   "metadata": {},
   "outputs": [],
   "source": [
    "import pymongo\n"
   ]
  },
  {
   "cell_type": "code",
   "execution_count": 25,
   "id": "2b4d917d",
   "metadata": {},
   "outputs": [],
   "source": [
    "conn = 'mongodb://localhost:27017'\n",
    "client = pymongo.MongoClient(conn)\n",
    "\n",
    "db = client.sales_db"
   ]
  },
  {
   "cell_type": "code",
   "execution_count": 34,
   "id": "f4d9e782",
   "metadata": {
    "scrolled": true
   },
   "outputs": [
    {
     "name": "stdout",
     "output_type": "stream",
     "text": [
      "{'_id': ObjectId('6343166a040dc084035e0281'), 'region': 'USA', 'category': 'Historical', 'parameter': 'EV sales', 'mode': 'Cars', 'powertrain': 'BEV', 'year': '2010', 'unit': 'sales', 'value': '1200'}\n",
      "{'_id': ObjectId('6343166a040dc084035e0282'), 'region': 'USA', 'category': 'Historical', 'parameter': 'EV sales', 'mode': 'Cars', 'powertrain': 'BEV', 'year': '2011', 'unit': 'sales', 'value': '9800'}\n",
      "{'_id': ObjectId('6343166a040dc084035e0283'), 'region': 'USA', 'category': 'Historical', 'parameter': 'EV sales', 'mode': 'Cars', 'powertrain': 'PHEV', 'year': '2011', 'unit': 'sales', 'value': '8000'}\n",
      "{'_id': ObjectId('6343166a040dc084035e0284'), 'region': 'USA', 'category': 'Historical', 'parameter': 'EV sales', 'mode': 'Cars', 'powertrain': 'PHEV', 'year': '2012', 'unit': 'sales', 'value': '39000'}\n",
      "{'_id': ObjectId('6343166a040dc084035e0285'), 'region': 'USA', 'category': 'Historical', 'parameter': 'EV sales', 'mode': 'Cars', 'powertrain': 'BEV', 'year': '2012', 'unit': 'sales', 'value': '15000'}\n",
      "{'_id': ObjectId('6343166a040dc084035e0286'), 'region': 'USA', 'category': 'Historical', 'parameter': 'EV sales', 'mode': 'Cars', 'powertrain': 'BEV', 'year': '2013', 'unit': 'sales', 'value': '48000'}\n",
      "{'_id': ObjectId('6343166a040dc084035e0287'), 'region': 'USA', 'category': 'Historical', 'parameter': 'EV sales', 'mode': 'Cars', 'powertrain': 'PHEV', 'year': '2013', 'unit': 'sales', 'value': '49000'}\n",
      "{'_id': ObjectId('6343166a040dc084035e0288'), 'region': 'USA', 'category': 'Historical', 'parameter': 'EV sales', 'mode': 'Cars', 'powertrain': 'PHEV', 'year': '2014', 'unit': 'sales', 'value': '55000'}\n",
      "{'_id': ObjectId('6343166a040dc084035e0289'), 'region': 'USA', 'category': 'Historical', 'parameter': 'EV sales', 'mode': 'Cars', 'powertrain': 'BEV', 'year': '2014', 'unit': 'sales', 'value': '63000'}\n",
      "{'_id': ObjectId('6343166a040dc084035e028a'), 'region': 'USA', 'category': 'Historical', 'parameter': 'EV sales', 'mode': 'Cars', 'powertrain': 'BEV', 'year': '2015', 'unit': 'sales', 'value': '71000'}\n",
      "{'_id': ObjectId('6343166a040dc084035e028b'), 'region': 'USA', 'category': 'Historical', 'parameter': 'EV sales', 'mode': 'Cars', 'powertrain': 'PHEV', 'year': '2015', 'unit': 'sales', 'value': '43000'}\n",
      "{'_id': ObjectId('6343166a040dc084035e028c'), 'region': 'USA', 'category': 'Historical', 'parameter': 'EV sales', 'mode': 'Cars', 'powertrain': 'PHEV', 'year': '2016', 'unit': 'sales', 'value': '73000'}\n",
      "{'_id': ObjectId('6343166a040dc084035e028d'), 'region': 'USA', 'category': 'Historical', 'parameter': 'EV sales', 'mode': 'Cars', 'powertrain': 'BEV', 'year': '2016', 'unit': 'sales', 'value': '87000'}\n",
      "{'_id': ObjectId('6343166a040dc084035e028e'), 'region': 'USA', 'category': 'Historical', 'parameter': 'EV sales', 'mode': 'Cars', 'powertrain': 'BEV', 'year': '2017', 'unit': 'sales', 'value': '100000'}\n",
      "{'_id': ObjectId('6343166a040dc084035e028f'), 'region': 'USA', 'category': 'Historical', 'parameter': 'EV sales', 'mode': 'Cars', 'powertrain': 'PHEV', 'year': '2017', 'unit': 'sales', 'value': '94000'}\n",
      "{'_id': ObjectId('6343166a040dc084035e0290'), 'region': 'USA', 'category': 'Historical', 'parameter': 'EV sales', 'mode': 'Cars', 'powertrain': 'PHEV', 'year': '2018', 'unit': 'sales', 'value': '120000'}\n",
      "{'_id': ObjectId('6343166a040dc084035e0291'), 'region': 'USA', 'category': 'Historical', 'parameter': 'EV sales', 'mode': 'Cars', 'powertrain': 'BEV', 'year': '2018', 'unit': 'sales', 'value': '240000'}\n",
      "{'_id': ObjectId('6343166a040dc084035e0292'), 'region': 'USA', 'category': 'Historical', 'parameter': 'EV sales', 'mode': 'Cars', 'powertrain': 'BEV', 'year': '2019', 'unit': 'sales', 'value': '240000'}\n",
      "{'_id': ObjectId('6343166a040dc084035e0293'), 'region': 'USA', 'category': 'Historical', 'parameter': 'EV sales', 'mode': 'Cars', 'powertrain': 'PHEV', 'year': '2019', 'unit': 'sales', 'value': '85000'}\n",
      "{'_id': ObjectId('6343166a040dc084035e0294'), 'region': 'USA', 'category': 'Historical', 'parameter': 'EV sales', 'mode': 'Cars', 'powertrain': 'PHEV', 'year': '2020', 'unit': 'sales', 'value': '64000'}\n",
      "{'_id': ObjectId('6343166a040dc084035e0295'), 'region': 'USA', 'category': 'Historical', 'parameter': 'EV sales', 'mode': 'Cars', 'powertrain': 'BEV', 'year': '2020', 'unit': 'sales', 'value': '230000'}\n",
      "{'_id': ObjectId('6343166a040dc084035e0296'), 'region': 'USA', 'category': 'Historical', 'parameter': 'EV sales', 'mode': 'Cars', 'powertrain': 'BEV', 'year': '2021', 'unit': 'sales', 'value': '470000'}\n",
      "{'_id': ObjectId('6343166a040dc084035e0297'), 'region': 'USA', 'category': 'Historical', 'parameter': 'EV sales', 'mode': 'Cars', 'powertrain': 'PHEV', 'year': '2021', 'unit': 'sales', 'value': '160000'}\n"
     ]
    }
   ],
   "source": [
    "sales = db.Sales.find({ 'region': 'USA' })\n",
    "\n",
    "for _id in sales:\n",
    "    print(_id)"
   ]
  },
  {
   "cell_type": "code",
   "execution_count": 35,
   "id": "5f7f4ccc",
   "metadata": {},
   "outputs": [],
   "source": [
    "db = client.EV_Stations"
   ]
  },
  {
   "cell_type": "code",
   "execution_count": 36,
   "id": "d1f923c4",
   "metadata": {},
   "outputs": [],
   "source": [
    "us_stations = db.EV_Stations.find({ 'Fuel Type Code': 'ELEC' },{ 'Country': 'US' })\n",
    "\n",
    "for _id in us_stations:\n",
    "    print(_id)"
   ]
  },
  {
   "cell_type": "code",
   "execution_count": null,
   "id": "ebcde13e",
   "metadata": {},
   "outputs": [],
   "source": []
  }
 ],
 "metadata": {
  "kernelspec": {
   "display_name": "PythonData38",
   "language": "python",
   "name": "pythondata38"
  },
  "language_info": {
   "codemirror_mode": {
    "name": "ipython",
    "version": 3
   },
   "file_extension": ".py",
   "mimetype": "text/x-python",
   "name": "python",
   "nbconvert_exporter": "python",
   "pygments_lexer": "ipython3",
   "version": "3.9.12"
  }
 },
 "nbformat": 4,
 "nbformat_minor": 5
}
