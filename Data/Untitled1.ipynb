{
 "cells": [
  {
   "cell_type": "code",
   "execution_count": 1,
   "id": "b603015c",
   "metadata": {},
   "outputs": [],
   "source": [
    "import pymongo\n"
   ]
  },
  {
   "cell_type": "code",
   "execution_count": 2,
   "id": "eef9b088",
   "metadata": {},
   "outputs": [],
   "source": [
    "conn = 'mongodb://localhost:27017'\n",
    "client = pymongo.MongoClient(conn)\n",
    "\n",
    "db = client.EV_Stations"
   ]
  },
  {
   "cell_type": "code",
   "execution_count": 3,
   "id": "9f2b5a23",
   "metadata": {},
   "outputs": [],
   "source": [
    "us_stations = db.EV_Stations.find({ 'Fuel Type Code': 'ELEC' },{ 'Country': 'US' })\n",
    "\n",
    "for _id in us_stations:\n",
    "    print(_id)\n"
   ]
  },
  {
   "cell_type": "code",
   "execution_count": null,
   "id": "39db55ae",
   "metadata": {},
   "outputs": [],
   "source": []
  }
 ],
 "metadata": {
  "kernelspec": {
   "display_name": "PythonData38",
   "language": "python",
   "name": "pythondata38"
  },
  "language_info": {
   "codemirror_mode": {
    "name": "ipython",
    "version": 3
   },
   "file_extension": ".py",
   "mimetype": "text/x-python",
   "name": "python",
   "nbconvert_exporter": "python",
   "pygments_lexer": "ipython3",
   "version": "3.9.12"
  }
 },
 "nbformat": 4,
 "nbformat_minor": 5
}
